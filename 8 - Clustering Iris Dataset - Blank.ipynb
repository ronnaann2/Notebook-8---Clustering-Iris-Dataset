{
 "cells": [
  {
   "cell_type": "markdown",
   "metadata": {},
   "source": [
    "# Clustering Iris Dataset\n",
    "\n",
    "Ronan V. Sanchez\n",
    "\n",
    "Data100 - S17\n",
    "\n",
    "Student ID:12126918 - BS-Electronics Engineering\n",
    "\n",
    "College:GCOE\n",
    "\n",
    "In this Notebook, we will be implementing the k-means algorithm to group our datasets into clusters. We will test our algorithm with a small synthetic (artificial) dataset, before we use the algorithm to find association rules from a larger dataset - the [iris dataset](https://www.kaggle.com/uciml/iris).\n",
    "\n",
    "Our Notebooks in CSMODEL are designed to be guided learning activities. To use them, simply go through the cells from top to bottom, following the directions along the way. If you find any unclear parts or mistakes in the Notebooks, email your instructor."
   ]
  },
  {
   "cell_type": "markdown",
   "metadata": {},
   "source": [
    "## Instructions\n",
    "* Read each cell and implement the TODOs sequentially. The markdown/text cells also contain instructions which you need to follow to get the whole notebook working.\n",
    "* Do not change the variable names unless the instructor allows you to.\n",
    "* Answer all the markdown/text cells with 'Question #' on them. The answer must strictly consume one line only.\n",
    "* You are expected to search how to some functions work on the Internet or via the docs. \n",
    "* The notebooks will undergo a 'Restart and Run All' command, so make sure that your code is working properly.\n",
    "* You are expected to understand the dataset loading and processing separately from this class.\n",
    "* You may not reproduce this notebook or share them to anyone."
   ]
  },
  {
   "cell_type": "markdown",
   "metadata": {},
   "source": [
    "## Import\n",
    "Import **pandas** and **matplotlib**."
   ]
  },
  {
   "cell_type": "code",
   "execution_count": 807,
   "metadata": {},
   "outputs": [
    {
     "name": "stdout",
     "output_type": "stream",
     "text": [
      "The autoreload extension is already loaded. To reload it, use:\n",
      "  %reload_ext autoreload\n"
     ]
    }
   ],
   "source": [
    "import numpy as np\n",
    "import pandas as pd\n",
    "import matplotlib.pyplot as plt\n",
    "\n",
    "%load_ext autoreload\n",
    "%autoreload 2"
   ]
  },
  {
   "cell_type": "markdown",
   "metadata": {},
   "source": [
    "## Synthetic Dataset\n",
    "Before we use a more complicated dataset, we will first demonstrate the k-means clustering using a synthetic (artificial) data drawn from a normal distribution. The synthetic dataset is composed of 2 variables - `x` and `y`, for easy visualization in a plot. The dataset contains 3 clusters of data points. Each cluster contains 100 observations."
   ]
  },
  {
   "cell_type": "code",
   "execution_count": 810,
   "metadata": {},
   "outputs": [],
   "source": [
    "cluster1 = (50, 60)\n",
    "cluster2 = (80, 20)\n",
    "cluster3 = (100, 70)\n",
    "distance = 10\n",
    "np.random.seed(8)\n",
    "\n",
    "x1 = np.random.normal(cluster1[0], distance, size=(100,))\n",
    "y1 = np.random.normal(cluster1[1], distance, size=(100,)) \n",
    "\n",
    "x2 = np.random.normal(cluster2[0], distance, size=(100,))\n",
    "y2 = np.random.normal(cluster2[1], distance, size=(100,)) \n",
    "\n",
    "x3 = np.random.normal(cluster3[0], distance, size=(100,))\n",
    "y3 = np.random.normal(cluster3[1], distance, size=(100,)) "
   ]
  },
  {
   "cell_type": "markdown",
   "metadata": {},
   "source": [
    "Let's visualize the synthetic dataset in a graph. Each cluster is represented in different colors."
   ]
  },
  {
   "cell_type": "code",
   "execution_count": 813,
   "metadata": {},
   "outputs": [
    {
     "data": {
      "image/png": "[encoded data removed]",
      "text/plain": [
       "<Figure size 640x480 with 1 Axes>"
      ]
     },
     "metadata": {},
     "output_type": "display_data"
    }
   ],
   "source": [
    "plt.plot(x1, y1, 'r+')\n",
    "plt.plot(x2, y2, 'g+')\n",
    "plt.plot(x3, y3, 'b+')\n",
    "plt.grid()\n",
    "plt.show()"
   ]
  },
  {
   "cell_type": "markdown",
   "metadata": {},
   "source": [
    "Convert the data type of the dataset from `numpy` arrays to `pandas` `DataFrame`."
   ]
  },
  {
   "cell_type": "code",
   "execution_count": 815,
   "metadata": {},
   "outputs": [],
   "source": [
    "class1 = np.full((100,), 0, dtype=int)\n",
    "class2 = np.full((100,), 1, dtype=int)\n",
    "class3 = np.full((100,), 2, dtype=int)\n",
    "\n",
    "x = pd.Series(np.hstack((x1, x2, x3)))\n",
    "y = pd.Series(np.hstack((y1, y2, y3)))\n",
    "c = pd.Series(np.hstack((class1, class2, class3)))\n",
    "\n",
    "syn_df = pd.DataFrame({'x': x, 'y': y, 'class': c})"
   ]
  },
  {
   "cell_type": "markdown",
   "metadata": {},
   "source": [
    "Show the contents of the `DataFrame` which contains the set of 300 randomly generated points."
   ]
  },
  {
   "cell_type": "code",
   "execution_count": 819,
   "metadata": {},
   "outputs": [
    {
     "data": {
      "text/html": [
       "<div>\n",
       "<style scoped>\n",
       "    .dataframe tbody tr th:only-of-type {\n",
       "        vertical-align: middle;\n",
       "    }\n",
       "\n",
       "    .dataframe tbody tr th {\n",
       "        vertical-align: top;\n",
       "    }\n",
       "\n",
       "    .dataframe thead th {\n",
       "        text-align: right;\n",
       "    }\n",
       "</style>\n",
       "<table border=\"1\" class=\"dataframe\">\n",
       "  <thead>\n",
       "    <tr style=\"text-align: right;\">\n",
       "      <th></th>\n",
       "      <th>x</th>\n",
       "      <th>y</th>\n",
       "      <th>class</th>\n",
       "    </tr>\n",
       "  </thead>\n",
       "  <tbody>\n",
       "    <tr>\n",
       "      <th>0</th>\n",
       "      <td>50.912047</td>\n",
       "      <td>68.538629</td>\n",
       "      <td>0</td>\n",
       "    </tr>\n",
       "    <tr>\n",
       "      <th>1</th>\n",
       "      <td>60.912827</td>\n",
       "      <td>63.073787</td>\n",
       "      <td>0</td>\n",
       "    </tr>\n",
       "    <tr>\n",
       "      <th>2</th>\n",
       "      <td>30.530297</td>\n",
       "      <td>59.277579</td>\n",
       "      <td>0</td>\n",
       "    </tr>\n",
       "    <tr>\n",
       "      <th>3</th>\n",
       "      <td>36.136505</td>\n",
       "      <td>55.311523</td>\n",
       "      <td>0</td>\n",
       "    </tr>\n",
       "    <tr>\n",
       "      <th>4</th>\n",
       "      <td>27.035084</td>\n",
       "      <td>59.345611</td>\n",
       "      <td>0</td>\n",
       "    </tr>\n",
       "    <tr>\n",
       "      <th>...</th>\n",
       "      <td>...</td>\n",
       "      <td>...</td>\n",
       "      <td>...</td>\n",
       "    </tr>\n",
       "    <tr>\n",
       "      <th>295</th>\n",
       "      <td>83.456567</td>\n",
       "      <td>53.361282</td>\n",
       "      <td>2</td>\n",
       "    </tr>\n",
       "    <tr>\n",
       "      <th>296</th>\n",
       "      <td>104.149834</td>\n",
       "      <td>56.687694</td>\n",
       "      <td>2</td>\n",
       "    </tr>\n",
       "    <tr>\n",
       "      <th>297</th>\n",
       "      <td>115.688819</td>\n",
       "      <td>59.167563</td>\n",
       "      <td>2</td>\n",
       "    </tr>\n",
       "    <tr>\n",
       "      <th>298</th>\n",
       "      <td>98.963170</td>\n",
       "      <td>70.555246</td>\n",
       "      <td>2</td>\n",
       "    </tr>\n",
       "    <tr>\n",
       "      <th>299</th>\n",
       "      <td>96.277833</td>\n",
       "      <td>53.890467</td>\n",
       "      <td>2</td>\n",
       "    </tr>\n",
       "  </tbody>\n",
       "</table>\n",
       "<p>300 rows × 3 columns</p>\n",
       "</div>"
      ],
      "text/plain": [
       "              x          y  class\n",
       "0     50.912047  68.538629      0\n",
       "1     60.912827  63.073787      0\n",
       "2     30.530297  59.277579      0\n",
       "3     36.136505  55.311523      0\n",
       "4     27.035084  59.345611      0\n",
       "..          ...        ...    ...\n",
       "295   83.456567  53.361282      2\n",
       "296  104.149834  56.687694      2\n",
       "297  115.688819  59.167563      2\n",
       "298   98.963170  70.555246      2\n",
       "299   96.277833  53.890467      2\n",
       "\n",
       "[300 rows x 3 columns]"
      ]
     },
     "execution_count": 819,
     "metadata": {},
     "output_type": "execute_result"
    }
   ],
   "source": [
    "syn_df"
   ]
  },
  {
   "cell_type": "markdown",
   "metadata": {},
   "source": [
    "Display dataset info using the `info` function."
   ]
  },
  {
   "cell_type": "code",
   "execution_count": 822,
   "metadata": {},
   "outputs": [
    {
     "name": "stdout",
     "output_type": "stream",
     "text": [
      "<class 'pandas.core.frame.DataFrame'>\n",
      "RangeIndex: 300 entries, 0 to 299\n",
      "Data columns (total 3 columns):\n",
      " #   Column  Non-Null Count  Dtype  \n",
      "---  ------  --------------  -----  \n",
      " 0   x       300 non-null    float64\n",
      " 1   y       300 non-null    float64\n",
      " 2   class   300 non-null    int32  \n",
      "dtypes: float64(2), int32(1)\n",
      "memory usage: 6.0 KB\n"
     ]
    }
   ],
   "source": [
    "syn_df.info()"
   ]
  },
  {
   "cell_type": "markdown",
   "metadata": {},
   "source": [
    "## Creating Clusters in the Synthetic Dataset using k-Means Algorithm\n",
    "Open `kmeans.py` file. Some of the functions in the `KMeans` class are not yet implemented. We will implement the missing parts of this class."
   ]
  },
  {
   "cell_type": "markdown",
   "metadata": {},
   "source": [
    "Import the `KMeans` class."
   ]
  },
  {
   "cell_type": "code",
   "execution_count": 826,
   "metadata": {},
   "outputs": [],
   "source": [
    "from kmeans import KMeans"
   ]
  },
  {
   "cell_type": "markdown",
   "metadata": {},
   "source": [
    "Instantiate a `KMeans` object with `k` equal to `3`, `start_var` equal to `0`, `end_var` equal to `2`, `num_observations` equal to `300`, and `data` equal to the `DataFrame` object which represents our synthetic dataset. The parameter `k` indicates the number of clusters that we want to create from the data. The parameters `start_var` and the `end_var` indicate the starting index and the ending index, respectively, of variables (columns) that we need to use as we create clusters from the dataset. This is useful if you want to exclude some columns of the `DataFrame` from the calculation when creating clusters. The parameter `num_observations` represents the total number of observations (rows) in the dataset. The parameter `data` is the `DataFrame` representation of the dataset that we want to cluster."
   ]
  },
  {
   "cell_type": "code",
   "execution_count": 829,
   "metadata": {},
   "outputs": [],
   "source": [
    "kmeans = KMeans(3, 0, 2, 300, syn_df)"
   ]
  },
  {
   "cell_type": "markdown",
   "metadata": {},
   "source": [
    "Open `kmeans.py` file and complete the `get_euclidean_distance()` function. This function returns the Euclidean distance between 2 data points `p` and `q`. \n",
    "\n",
    "$$D(p, q)=\\sqrt{\\sum_{i=0}^{n} (q_i - p_i)^2}$$\n",
    "\n",
    "This function has 2 parameters - `point1` and `point2`. You may pass these combinations of data types in this function:\n",
    "- a `Series` and a `Series` - the function returns a single distance based on these two datapoints. The data type of the result is `np.float64`.\n",
    "- a `DataFrame` and a `Series` - the returns a `Series` of distances of a single data point (represented as a `Series`) and a set of data points (represented as a `DataFrame`). If the shape of the `DataFrame` is (3, 2), the shape of the `Series` should be (2,) to enable broadcasting. This operation will result to a `Series` of shape (3,)."
   ]
  },
  {
   "cell_type": "markdown",
   "metadata": {},
   "source": [
    "Implement the `get_euclidean_distance()` function. Inline comments should help you in completing the contents of the function. Upon implementing the function, execute the code below then answer the questions."
   ]
  },
  {
   "cell_type": "markdown",
   "metadata": {},
   "source": [
    "Suppose we create two data points with 2 variables generated from random values. Let's call the `get_euclidean_distance()` function and compute its Euclidean distance."
   ]
  },
  {
   "cell_type": "code",
   "execution_count": 834,
   "metadata": {},
   "outputs": [
    {
     "name": "stdout",
     "output_type": "stream",
     "text": [
      "Point1:\n",
      "[4 5]\n",
      "Point2:\n",
      "[2 6]\n",
      "Distance:\n",
      "2.24\n"
     ]
    }
   ],
   "source": [
    "np.random.seed(8)\n",
    "point1 = np.random.randint(1, 10, size=(2,))\n",
    "point2 = np.random.randint(1, 10, size=(2,))\n",
    "\n",
    "s_point1 = pd.Series(point1)\n",
    "s_point2 = pd.Series(point2)\n",
    "distance = kmeans.get_euclidean_distance(s_point1, s_point2)\n",
    "\n",
    "print('Point1:\\n' + str(point1))\n",
    "print('Point2:\\n' + str(point2))\n",
    "print('Distance:\\n' + str(distance.round(2)))"
   ]
  },
  {
   "cell_type": "markdown",
   "metadata": {},
   "source": [
    "**Question #1:** What is the distance between the two data points? Limit to 2 decimal places.\n",
    "\n",
    "Answer: 2.24"
   ]
  },
  {
   "cell_type": "markdown",
   "metadata": {},
   "source": [
    "Suppose we create a set of data points and a single data point. Let's call the `get_euclidean_distance()` function and compute their Euclidean distance."
   ]
  },
  {
   "cell_type": "code",
   "execution_count": 838,
   "metadata": {},
   "outputs": [
    {
     "name": "stdout",
     "output_type": "stream",
     "text": [
      "Point1:\n",
      "[[4 5]\n",
      " [2 6]\n",
      " [9 4]]\n",
      "Point2:\n",
      "[9 1]\n",
      "Distances:\n",
      "0    6.4\n",
      "1    8.6\n",
      "2    3.0\n",
      "dtype: float64\n"
     ]
    }
   ],
   "source": [
    "np.random.seed(8)\n",
    "point1 = np.random.randint(1, 10, size=(3,2))\n",
    "point2 = np.random.randint(1, 10, size=(2,))\n",
    "\n",
    "df_point1 = pd.DataFrame(point1)\n",
    "s_point2 = pd.Series(point2)\n",
    "distance = kmeans.get_euclidean_distance(df_point1, s_point2)\n",
    "\n",
    "print('Point1:\\n' + str(point1))\n",
    "print('Point2:\\n' + str(point2))\n",
    "print('Distances:\\n' + str(distance.round(2)))"
   ]
  },
  {
   "cell_type": "markdown",
   "metadata": {},
   "source": [
    "**Question #2:** What is the distance between the second point in `df_point1` and `s_point2`? Limit to 2 decimal places.\n",
    "\n",
    "Answer: 8.6"
   ]
  },
  {
   "cell_type": "markdown",
   "metadata": {},
   "source": [
    "Open `kmeans.py` file and complete the `initialize_centroids()` function. This function initializes `k` centroids. This function picks a random point from the dataset as the first centroid, then iteratively picks points that are farthest from the current set of centroids."
   ]
  },
  {
   "cell_type": "markdown",
   "metadata": {},
   "source": [
    "Implement the `initialize_centroids()` function. Inline comments should help you in completing the contents of the function. Upon implementing the function, execute the code below then answer the questions."
   ]
  },
  {
   "cell_type": "code",
   "execution_count": 846,
   "metadata": {},
   "outputs": [
    {
     "data": {
      "text/html": [
       "<div>\n",
       "<style scoped>\n",
       "    .dataframe tbody tr th:only-of-type {\n",
       "        vertical-align: middle;\n",
       "    }\n",
       "\n",
       "    .dataframe tbody tr th {\n",
       "        vertical-align: top;\n",
       "    }\n",
       "\n",
       "    .dataframe thead th {\n",
       "        text-align: right;\n",
       "    }\n",
       "</style>\n",
       "<table border=\"1\" class=\"dataframe\">\n",
       "  <thead>\n",
       "    <tr style=\"text-align: right;\">\n",
       "      <th></th>\n",
       "      <th>x</th>\n",
       "      <th>y</th>\n",
       "    </tr>\n",
       "  </thead>\n",
       "  <tbody>\n",
       "    <tr>\n",
       "      <th>0</th>\n",
       "      <td>53.75</td>\n",
       "      <td>76.38</td>\n",
       "    </tr>\n",
       "    <tr>\n",
       "      <th>1</th>\n",
       "      <td>93.54</td>\n",
       "      <td>-6.86</td>\n",
       "    </tr>\n",
       "    <tr>\n",
       "      <th>2</th>\n",
       "      <td>123.06</td>\n",
       "      <td>69.74</td>\n",
       "    </tr>\n",
       "    <tr>\n",
       "      <th>3</th>\n",
       "      <td>74.78</td>\n",
       "      <td>19.67</td>\n",
       "    </tr>\n",
       "    <tr>\n",
       "      <th>4</th>\n",
       "      <td>33.57</td>\n",
       "      <td>35.66</td>\n",
       "    </tr>\n",
       "    <tr>\n",
       "      <th>5</th>\n",
       "      <td>88.06</td>\n",
       "      <td>59.12</td>\n",
       "    </tr>\n",
       "  </tbody>\n",
       "</table>\n",
       "</div>"
      ],
      "text/plain": [
       "        x      y\n",
       "0   53.75  76.38\n",
       "1   93.54  -6.86\n",
       "2  123.06  69.74\n",
       "3   74.78  19.67\n",
       "4   33.57  35.66\n",
       "5   88.06  59.12"
      ]
     },
     "execution_count": 846,
     "metadata": {},
     "output_type": "execute_result"
    }
   ],
   "source": [
    "centroids = kmeans.initialize_centroids(syn_df)\n",
    "centroids.round(2)"
   ]
  },
  {
   "cell_type": "markdown",
   "metadata": {},
   "source": [
    "**Question #3:** What are the coordinates of the the first centroid? Limit to 2 decimal places.\n",
    "\n",
    "Answer: 53.75,\t76.38"
   ]
  },
  {
   "cell_type": "markdown",
   "metadata": {},
   "source": [
    "**Question #4:** What are the coordinates of the the third centroid? Limit to 2 decimal places.\n",
    "\n",
    "Answer: 123.06,\t69.74"
   ]
  },
  {
   "cell_type": "markdown",
   "metadata": {},
   "source": [
    "Let's visualize the initial location of our centroids."
   ]
  },
  {
   "cell_type": "code",
   "execution_count": 851,
   "metadata": {},
   "outputs": [
    {
     "data": {
      "image/png": "[encoded data removed]",
      "text/plain": [
       "<Figure size 640x480 with 1 Axes>"
      ]
     },
     "metadata": {},
     "output_type": "display_data"
    }
   ],
   "source": [
    "plt.plot(syn_df.loc[syn_df['class'] == 0, 'x'], syn_df.loc[syn_df['class'] == 0, 'y'], 'r+')\n",
    "plt.plot(syn_df.loc[syn_df['class'] == 1, 'x'], syn_df.loc[syn_df['class'] == 1, 'y'], 'g+')\n",
    "plt.plot(syn_df.loc[syn_df['class'] == 2, 'x'], syn_df.loc[syn_df['class'] == 2, 'y'], 'b+')\n",
    "\n",
    "for i in range(len(kmeans.centroids)):\n",
    "    plt.plot(kmeans.centroids.iloc[i]['x'], kmeans.centroids.iloc[i]['y'], 'k*', ms=12)\n",
    "\n",
    "plt.grid()"
   ]
  },
  {
   "cell_type": "markdown",
   "metadata": {},
   "source": [
    "**Sanity Check:** The initial location of your centroids should look like this:\n",
    "<img src=\"img/initial_centroids.png\" alt=\"Initial Centroid Locations\" style=\"width: 350px;\"/>"
   ]
  },
  {
   "cell_type": "markdown",
   "metadata": {},
   "source": [
    "Open `kmeans.py` file and complete the `group_observations()` function. This function returns the clusters of each data point in the dataset given the current set of centroids."
   ]
  },
  {
   "cell_type": "markdown",
   "metadata": {},
   "source": [
    "Implement the `group_observations()` function. Inline comments should help you in completing the contents of the function. Upon implementing the function, execute the code below then answer the questions."
   ]
  },
  {
   "cell_type": "code",
   "execution_count": 856,
   "metadata": {},
   "outputs": [
    {
     "name": "stdout",
     "output_type": "stream",
     "text": [
      "Number of data points in each cluster:\n",
      "Cluster 0:  116\n",
      "Cluster 1:  94\n",
      "Cluster 2:  90\n"
     ]
    }
   ],
   "source": [
    "clusters = kmeans.group_observations(syn_df)\n",
    "print('Number of data points in each cluster:')\n",
    "print('Cluster 0: ', clusters.loc[clusters == 0].shape[0])\n",
    "print('Cluster 1: ', clusters.loc[clusters == 1].shape[0])\n",
    "print('Cluster 2: ', clusters.loc[clusters == 2].shape[0])"
   ]
  },
  {
   "cell_type": "markdown",
   "metadata": {},
   "source": [
    "**Question #5:** After clustering the data points using the initial values of the centroids, how many data points are included in cluster 0?\n",
    "\n",
    "Answer: 116"
   ]
  },
  {
   "cell_type": "markdown",
   "metadata": {},
   "source": [
    "**Question #6:** After clustering the data points using the initial values of the centroids, how many data points are included in cluster 2?\n",
    "\n",
    "Answer: 90"
   ]
  },
  {
   "cell_type": "markdown",
   "metadata": {},
   "source": [
    "Open `kmeans.py` file and complete the `adjust_centroids()` function. This function adjusts the location of centroids based on the average of the values of the data points in their corresponding clusters."
   ]
  },
  {
   "cell_type": "markdown",
   "metadata": {},
   "source": [
    "Implement the `adjust_centroids()` function. Inline comments should help you in completing the contents of the function. Upon implementing the function, execute the code below then answer the questions."
   ]
  },
  {
   "cell_type": "code",
   "execution_count": 862,
   "metadata": {},
   "outputs": [
    {
     "data": {
      "text/html": [
       "<div>\n",
       "<style scoped>\n",
       "    .dataframe tbody tr th:only-of-type {\n",
       "        vertical-align: middle;\n",
       "    }\n",
       "\n",
       "    .dataframe tbody tr th {\n",
       "        vertical-align: top;\n",
       "    }\n",
       "\n",
       "    .dataframe thead th {\n",
       "        text-align: right;\n",
       "    }\n",
       "</style>\n",
       "<table border=\"1\" class=\"dataframe\">\n",
       "  <thead>\n",
       "    <tr style=\"text-align: right;\">\n",
       "      <th></th>\n",
       "      <th>x</th>\n",
       "      <th>y</th>\n",
       "      <th>class</th>\n",
       "    </tr>\n",
       "    <tr>\n",
       "      <th>group</th>\n",
       "      <th></th>\n",
       "      <th></th>\n",
       "      <th></th>\n",
       "    </tr>\n",
       "  </thead>\n",
       "  <tbody>\n",
       "    <tr>\n",
       "      <th>0</th>\n",
       "      <td>54.73</td>\n",
       "      <td>60.45</td>\n",
       "      <td>0.25</td>\n",
       "    </tr>\n",
       "    <tr>\n",
       "      <th>1</th>\n",
       "      <td>79.20</td>\n",
       "      <td>18.80</td>\n",
       "      <td>1.01</td>\n",
       "    </tr>\n",
       "    <tr>\n",
       "      <th>2</th>\n",
       "      <td>102.50</td>\n",
       "      <td>69.98</td>\n",
       "      <td>1.96</td>\n",
       "    </tr>\n",
       "  </tbody>\n",
       "</table>\n",
       "</div>"
      ],
      "text/plain": [
       "            x      y  class\n",
       "group                      \n",
       "0       54.73  60.45   0.25\n",
       "1       79.20  18.80   1.01\n",
       "2      102.50  69.98   1.96"
      ]
     },
     "execution_count": 862,
     "metadata": {},
     "output_type": "execute_result"
    }
   ],
   "source": [
    "new_centroids = kmeans.adjust_centroids(syn_df, clusters)\n",
    "new_centroids.round(2)"
   ]
  },
  {
   "cell_type": "markdown",
   "metadata": {},
   "source": [
    "**Question #7:** After clustering the dataset in one iteration, what are the updated coordinates of the the second centroid? Limit to 2 decimal places.\n",
    "\n",
    "Answer: 79.20,\t18.80\t"
   ]
  },
  {
   "cell_type": "markdown",
   "metadata": {},
   "source": [
    "After the first iteration of the k-means algorithm, let's visualize the updated location of our centroids."
   ]
  },
  {
   "cell_type": "code",
   "execution_count": 871,
   "metadata": {},
   "outputs": [
    {
     "ename": "IndexError",
     "evalue": "single positional indexer is out-of-bounds",
     "output_type": "error",
     "traceback": [
      "\u001b[1;31m---------------------------------------------------------------------------\u001b[0m",
      "\u001b[1;31mIndexError\u001b[0m                                Traceback (most recent call last)",
      "Cell \u001b[1;32mIn[871], line 6\u001b[0m\n\u001b[0;32m      3\u001b[0m plt\u001b[38;5;241m.\u001b[39mplot(syn_df\u001b[38;5;241m.\u001b[39mloc[clusters \u001b[38;5;241m==\u001b[39m \u001b[38;5;241m2\u001b[39m, \u001b[38;5;124m'\u001b[39m\u001b[38;5;124mx\u001b[39m\u001b[38;5;124m'\u001b[39m], syn_df\u001b[38;5;241m.\u001b[39mloc[clusters \u001b[38;5;241m==\u001b[39m \u001b[38;5;241m2\u001b[39m, \u001b[38;5;124m'\u001b[39m\u001b[38;5;124my\u001b[39m\u001b[38;5;124m'\u001b[39m], \u001b[38;5;124m'\u001b[39m\u001b[38;5;124mb+\u001b[39m\u001b[38;5;124m'\u001b[39m)\n\u001b[0;32m      5\u001b[0m \u001b[38;5;28;01mfor\u001b[39;00m i \u001b[38;5;129;01min\u001b[39;00m \u001b[38;5;28mrange\u001b[39m(\u001b[38;5;28mlen\u001b[39m(kmeans\u001b[38;5;241m.\u001b[39mcentroids)):\n\u001b[1;32m----> 6\u001b[0m     plt\u001b[38;5;241m.\u001b[39mplot(new_centroids\u001b[38;5;241m.\u001b[39miloc[i][\u001b[38;5;124m'\u001b[39m\u001b[38;5;124mx\u001b[39m\u001b[38;5;124m'\u001b[39m], new_centroids\u001b[38;5;241m.\u001b[39miloc[i][\u001b[38;5;124m'\u001b[39m\u001b[38;5;124my\u001b[39m\u001b[38;5;124m'\u001b[39m], \u001b[38;5;124m'\u001b[39m\u001b[38;5;124mk*\u001b[39m\u001b[38;5;124m'\u001b[39m, ms\u001b[38;5;241m=\u001b[39m\u001b[38;5;241m12\u001b[39m)\n\u001b[0;32m      8\u001b[0m plt\u001b[38;5;241m.\u001b[39mgrid()\n",
      "File \u001b[1;32m~\\anaconda3\\Lib\\site-packages\\pandas\\core\\indexing.py:1191\u001b[0m, in \u001b[0;36m_LocationIndexer.__getitem__\u001b[1;34m(self, key)\u001b[0m\n\u001b[0;32m   1189\u001b[0m maybe_callable \u001b[38;5;241m=\u001b[39m com\u001b[38;5;241m.\u001b[39mapply_if_callable(key, \u001b[38;5;28mself\u001b[39m\u001b[38;5;241m.\u001b[39mobj)\n\u001b[0;32m   1190\u001b[0m maybe_callable \u001b[38;5;241m=\u001b[39m \u001b[38;5;28mself\u001b[39m\u001b[38;5;241m.\u001b[39m_check_deprecated_callable_usage(key, maybe_callable)\n\u001b[1;32m-> 1191\u001b[0m \u001b[38;5;28;01mreturn\u001b[39;00m \u001b[38;5;28mself\u001b[39m\u001b[38;5;241m.\u001b[39m_getitem_axis(maybe_callable, axis\u001b[38;5;241m=\u001b[39maxis)\n",
      "File \u001b[1;32m~\\anaconda3\\Lib\\site-packages\\pandas\\core\\indexing.py:1752\u001b[0m, in \u001b[0;36m_iLocIndexer._getitem_axis\u001b[1;34m(self, key, axis)\u001b[0m\n\u001b[0;32m   1749\u001b[0m     \u001b[38;5;28;01mraise\u001b[39;00m \u001b[38;5;167;01mTypeError\u001b[39;00m(\u001b[38;5;124m\"\u001b[39m\u001b[38;5;124mCannot index by location index with a non-integer key\u001b[39m\u001b[38;5;124m\"\u001b[39m)\n\u001b[0;32m   1751\u001b[0m \u001b[38;5;66;03m# validate the location\u001b[39;00m\n\u001b[1;32m-> 1752\u001b[0m \u001b[38;5;28mself\u001b[39m\u001b[38;5;241m.\u001b[39m_validate_integer(key, axis)\n\u001b[0;32m   1754\u001b[0m \u001b[38;5;28;01mreturn\u001b[39;00m \u001b[38;5;28mself\u001b[39m\u001b[38;5;241m.\u001b[39mobj\u001b[38;5;241m.\u001b[39m_ixs(key, axis\u001b[38;5;241m=\u001b[39maxis)\n",
      "File \u001b[1;32m~\\anaconda3\\Lib\\site-packages\\pandas\\core\\indexing.py:1685\u001b[0m, in \u001b[0;36m_iLocIndexer._validate_integer\u001b[1;34m(self, key, axis)\u001b[0m\n\u001b[0;32m   1683\u001b[0m len_axis \u001b[38;5;241m=\u001b[39m \u001b[38;5;28mlen\u001b[39m(\u001b[38;5;28mself\u001b[39m\u001b[38;5;241m.\u001b[39mobj\u001b[38;5;241m.\u001b[39m_get_axis(axis))\n\u001b[0;32m   1684\u001b[0m \u001b[38;5;28;01mif\u001b[39;00m key \u001b[38;5;241m>\u001b[39m\u001b[38;5;241m=\u001b[39m len_axis \u001b[38;5;129;01mor\u001b[39;00m key \u001b[38;5;241m<\u001b[39m \u001b[38;5;241m-\u001b[39mlen_axis:\n\u001b[1;32m-> 1685\u001b[0m     \u001b[38;5;28;01mraise\u001b[39;00m \u001b[38;5;167;01mIndexError\u001b[39;00m(\u001b[38;5;124m\"\u001b[39m\u001b[38;5;124msingle positional indexer is out-of-bounds\u001b[39m\u001b[38;5;124m\"\u001b[39m)\n",
      "\u001b[1;31mIndexError\u001b[0m: single positional indexer is out-of-bounds"
     ]
    },
    {
     "data": {
      "image/png": "[encoded data removed]",
      "text/plain": [
       "<Figure size 640x480 with 1 Axes>"
      ]
     },
     "metadata": {},
     "output_type": "display_data"
    }
   ],
   "source": [
    "plt.plot(syn_df.loc[clusters == 0, 'x'], syn_df.loc[clusters == 0, 'y'], 'r+')\n",
    "plt.plot(syn_df.loc[clusters == 1, 'x'], syn_df.loc[clusters == 1, 'y'], 'g+')\n",
    "plt.plot(syn_df.loc[clusters == 2, 'x'], syn_df.loc[clusters == 2, 'y'], 'b+')\n",
    "\n",
    "for i in range(len(kmeans.centroids)):\n",
    "    plt.plot(new_centroids.iloc[i]['x'], new_centroids.iloc[i]['y'], 'k*', ms=12)\n",
    "\n",
    "plt.grid()"
   ]
  },
  {
   "cell_type": "markdown",
   "metadata": {},
   "source": [
    "**Sanity Check:** After the first iteration of the k-means algorithm, the updated location of your centroids should look like this:\n",
    "<img src=\"img/centroids_iter1.png\" alt=\"Centroid Location after Iteration 1\" style=\"width: 350px;\"/>"
   ]
  },
  {
   "cell_type": "markdown",
   "metadata": {},
   "source": [
    "Open `kmeans.py` file and complete the `train()` function. This function returns a `Series` which represents the final clusters of each data point in the dataset. This function stops clustering if one of the following is met:\n",
    "- The values of the centroids do not change.\n",
    "- The clusters of each data point do not change.\n",
    "- The maximum number of iterations is met."
   ]
  },
  {
   "cell_type": "markdown",
   "metadata": {},
   "source": [
    "Implement the `train()` function. Inline comments should help you in completing the contents of the function. Upon implementing the function, execute the code below then answer the questions."
   ]
  },
  {
   "cell_type": "code",
   "execution_count": 876,
   "metadata": {},
   "outputs": [
    {
     "name": "stdout",
     "output_type": "stream",
     "text": [
      "Iteration 1\n",
      "Iteration 2\n",
      "Iteration 3\n",
      "Iteration 4\n",
      "Done clustering!\n"
     ]
    }
   ],
   "source": [
    "groups = kmeans.train(syn_df, 300)"
   ]
  },
  {
   "cell_type": "code",
   "execution_count": 878,
   "metadata": {},
   "outputs": [
    {
     "name": "stdout",
     "output_type": "stream",
     "text": [
      "Number of data points in each cluster:\n",
      "Cluster 0:  100\n",
      "Cluster 1:  101\n",
      "Cluster 2:  99\n"
     ]
    }
   ],
   "source": [
    "print('Number of data points in each cluster:')\n",
    "print('Cluster 0: ', groups.loc[groups == 0].shape[0])\n",
    "print('Cluster 1: ', groups.loc[groups == 1].shape[0])\n",
    "print('Cluster 2: ', groups.loc[groups == 2].shape[0])"
   ]
  },
  {
   "cell_type": "markdown",
   "metadata": {},
   "source": [
    "**Question #8:** After clustering, how many data points are included in cluster 0?\n",
    "\n",
    "Answer: 100"
   ]
  },
  {
   "cell_type": "markdown",
   "metadata": {},
   "source": [
    "**Question #9:** After clustering, how many data points are included in cluster 1?\n",
    "\n",
    "Answer: 101"
   ]
  },
  {
   "cell_type": "markdown",
   "metadata": {},
   "source": [
    "After executing the k-means algorithm, let's visualize our final clusters compared to our data."
   ]
  },
  {
   "cell_type": "code",
   "execution_count": 883,
   "metadata": {},
   "outputs": [
    {
     "data": {
      "image/png": "[encoded data removed]",
      "text/plain": [
       "<Figure size 1000x500 with 2 Axes>"
      ]
     },
     "metadata": {},
     "output_type": "display_data"
    }
   ],
   "source": [
    "syn_new_df = pd.concat([syn_df.iloc[:, 0:2], groups.rename('group')], axis=1)\n",
    "\n",
    "fig, axs = plt.subplots(1, 2, figsize=(10,5))\n",
    "\n",
    "axs[0].plot(syn_df.loc[syn_df['class'] == 0, 'x'], syn_df.loc[syn_df['class'] == 0, 'y'], 'r+')\n",
    "axs[0].plot(syn_df.loc[syn_df['class'] == 1, 'x'], syn_df.loc[syn_df['class'] == 1, 'y'], 'g+')\n",
    "axs[0].plot(syn_df.loc[syn_df['class'] == 2, 'x'], syn_df.loc[syn_df['class'] == 2, 'y'], 'b+')\n",
    "\n",
    "axs[1].plot(syn_new_df.loc[syn_new_df['group'] == 0, 'x'], syn_new_df.loc[syn_new_df['group'] == 0, 'y'], 'r+')\n",
    "axs[1].plot(syn_new_df.loc[syn_new_df['group'] == 1, 'x'], syn_new_df.loc[syn_new_df['group'] == 1, 'y'], 'g+')\n",
    "axs[1].plot(syn_new_df.loc[syn_new_df['group'] == 2, 'x'], syn_new_df.loc[syn_new_df['group'] == 2, 'y'], 'b+')\n",
    "\n",
    "for i in range(len(kmeans.centroids)):\n",
    "    axs[1].plot(kmeans.centroids.iloc[i]['x'], kmeans.centroids.iloc[i]['y'], 'k*', ms=12)\n",
    "\n",
    "axs[0].grid()\n",
    "axs[1].grid()"
   ]
  },
  {
   "cell_type": "markdown",
   "metadata": {},
   "source": [
    "## Iris Dataset\n",
    "For this notebook, we will work on a dataset called `iris dataset`. This dataset includes three iris species with 50 samples each as well as some properties about each plant. One plant species is linearly separable from the other two, but the other two are not linearly separable from each other.\n",
    "\n",
    "The dataset is provided to you as a `.csv` file. `.csv` means comma-separated values. You can open the file in Notepad to see how it is exactly formatted."
   ]
  },
  {
   "cell_type": "markdown",
   "metadata": {},
   "source": [
    "If you view the `.csv` file in Excel, you can see that our dataset contains 150 **observations** (rows) across 6 **variables** (columns). The following are the descriptions of each variable in the dataset.\n",
    "\n",
    "- **`Id`**: Identifier.\n",
    "- **`SepalLengthCm`**: Sepal length in centimeters\n",
    "- **`SepalWidthCm`**: Sepal width in centimeters\n",
    "- **`PetalLengthCm`**: Petal length in centimeters\n",
    "- **`PetalWidthCm`**: Petal width in centimeters\n",
    "- **`Species`**: Species of iris - `Iris-setosa`; `Iris-versicolor`; `Iris-virginica`"
   ]
  },
  {
   "cell_type": "markdown",
   "metadata": {},
   "source": [
    "Let's read the dataset."
   ]
  },
  {
   "cell_type": "code",
   "execution_count": 888,
   "metadata": {},
   "outputs": [],
   "source": [
    "iris_df = pd.read_csv('iris.csv')"
   ]
  },
  {
   "cell_type": "markdown",
   "metadata": {},
   "source": [
    "Whenever we load a new dataset, it is generally a good idea to call the [`info`](https://pandas.pydata.org/pandas-docs/stable/reference/api/pandas.DataFrame.info.html) function, which displays general information about the dataset."
   ]
  },
  {
   "cell_type": "code",
   "execution_count": 891,
   "metadata": {},
   "outputs": [
    {
     "name": "stdout",
     "output_type": "stream",
     "text": [
      "<class 'pandas.core.frame.DataFrame'>\n",
      "RangeIndex: 150 entries, 0 to 149\n",
      "Data columns (total 6 columns):\n",
      " #   Column         Non-Null Count  Dtype  \n",
      "---  ------         --------------  -----  \n",
      " 0   Id             150 non-null    int64  \n",
      " 1   SepalLengthCm  150 non-null    float64\n",
      " 2   SepalWidthCm   150 non-null    float64\n",
      " 3   PetalLengthCm  150 non-null    float64\n",
      " 4   PetalWidthCm   150 non-null    float64\n",
      " 5   Species        150 non-null    object \n",
      "dtypes: float64(4), int64(1), object(1)\n",
      "memory usage: 7.2+ KB\n"
     ]
    }
   ],
   "source": [
    "iris_df.info()"
   ]
  },
  {
   "cell_type": "markdown",
   "metadata": {},
   "source": [
    "Instantiate a `KMeans` object with `k` equal to `3`, `start_var` equal to `1`, `end_var` equal to `5`, `num_observations` equal to `150`, and `data` equal to the `DataFrame` object which represents the iris dataset. "
   ]
  },
  {
   "cell_type": "code",
   "execution_count": 894,
   "metadata": {},
   "outputs": [],
   "source": [
    "kmeans = KMeans(3, 1, 5, 150, iris_df)"
   ]
  },
  {
   "cell_type": "markdown",
   "metadata": {},
   "source": [
    "Initialize the centroids."
   ]
  },
  {
   "cell_type": "code",
   "execution_count": 784,
   "metadata": {},
   "outputs": [
    {
     "data": {
      "text/html": [
       "<div>\n",
       "<style scoped>\n",
       "    .dataframe tbody tr th:only-of-type {\n",
       "        vertical-align: middle;\n",
       "    }\n",
       "\n",
       "    .dataframe tbody tr th {\n",
       "        vertical-align: top;\n",
       "    }\n",
       "\n",
       "    .dataframe thead th {\n",
       "        text-align: right;\n",
       "    }\n",
       "</style>\n",
       "<table border=\"1\" class=\"dataframe\">\n",
       "  <thead>\n",
       "    <tr style=\"text-align: right;\">\n",
       "      <th></th>\n",
       "      <th>SepalLengthCm</th>\n",
       "      <th>SepalWidthCm</th>\n",
       "      <th>PetalLengthCm</th>\n",
       "      <th>PetalWidthCm</th>\n",
       "    </tr>\n",
       "  </thead>\n",
       "  <tbody>\n",
       "    <tr>\n",
       "      <th>0</th>\n",
       "      <td>4.9</td>\n",
       "      <td>3.1</td>\n",
       "      <td>1.5</td>\n",
       "      <td>0.1</td>\n",
       "    </tr>\n",
       "    <tr>\n",
       "      <th>1</th>\n",
       "      <td>7.7</td>\n",
       "      <td>2.6</td>\n",
       "      <td>6.9</td>\n",
       "      <td>2.3</td>\n",
       "    </tr>\n",
       "    <tr>\n",
       "      <th>2</th>\n",
       "      <td>4.9</td>\n",
       "      <td>2.5</td>\n",
       "      <td>4.5</td>\n",
       "      <td>1.7</td>\n",
       "    </tr>\n",
       "  </tbody>\n",
       "</table>\n",
       "</div>"
      ],
      "text/plain": [
       "  SepalLengthCm SepalWidthCm PetalLengthCm PetalWidthCm\n",
       "0           4.9          3.1           1.5          0.1\n",
       "1           7.7          2.6           6.9          2.3\n",
       "2           4.9          2.5           4.5          1.7"
      ]
     },
     "execution_count": 784,
     "metadata": {},
     "output_type": "execute_result"
    }
   ],
   "source": [
    "kmeans.initialize_centroids(iris_df)"
   ]
  },
  {
   "cell_type": "markdown",
   "metadata": {},
   "source": [
    "Cluster the dataset."
   ]
  },
  {
   "cell_type": "code",
   "execution_count": 787,
   "metadata": {},
   "outputs": [
    {
     "name": "stdout",
     "output_type": "stream",
     "text": [
      "Iteration 1\n",
      "Iteration 2\n",
      "Iteration 3\n",
      "Iteration 4\n",
      "Done clustering!\n"
     ]
    }
   ],
   "source": [
    "groups = kmeans.train(iris_df, 300)"
   ]
  },
  {
   "cell_type": "markdown",
   "metadata": {},
   "source": [
    "Check the number of  per class in each cluster. Answer the questions below."
   ]
  },
  {
   "cell_type": "code",
   "execution_count": 790,
   "metadata": {},
   "outputs": [
    {
     "name": "stdout",
     "output_type": "stream",
     "text": [
      "Number of data points in each cluster:\n",
      "Cluster 0:\n",
      "Class Iris-setosa:\t 50\n",
      "Class Iris-versicolor:\t 0\n",
      "Class Iris-virginica:\t 0\n",
      "Cluster 1:\n",
      "Class Iris-setosa:\t 0\n",
      "Class Iris-versicolor:\t 2\n",
      "Class Iris-virginica:\t 36\n",
      "Cluster 2:\n",
      "Class Iris-setosa:\t 0\n",
      "Class Iris-versicolor:\t 48\n",
      "Class Iris-virginica:\t 14\n"
     ]
    }
   ],
   "source": [
    "cluster_0 = iris_df.loc[groups == 0]\n",
    "cluster_1 = iris_df.loc[groups == 1]\n",
    "cluster_2 = iris_df.loc[groups == 2]\n",
    "\n",
    "print('Number of data points in each cluster:')\n",
    "print('Cluster 0:')\n",
    "print('Class Iris-setosa:\\t', cluster_0.loc[cluster_0['Species'] == 'Iris-setosa'].shape[0])\n",
    "print('Class Iris-versicolor:\\t', cluster_0.loc[cluster_0['Species'] == 'Iris-versicolor'].shape[0])\n",
    "print('Class Iris-virginica:\\t', cluster_0.loc[cluster_0['Species'] == 'Iris-virginica'].shape[0])\n",
    "print('Cluster 1:')\n",
    "print('Class Iris-setosa:\\t', cluster_1.loc[cluster_1['Species'] == 'Iris-setosa'].shape[0])\n",
    "print('Class Iris-versicolor:\\t', cluster_1.loc[cluster_1['Species'] == 'Iris-versicolor'].shape[0])\n",
    "print('Class Iris-virginica:\\t', cluster_1.loc[cluster_1['Species'] == 'Iris-virginica'].shape[0])\n",
    "print('Cluster 2:')\n",
    "print('Class Iris-setosa:\\t', cluster_2.loc[cluster_2['Species'] == 'Iris-setosa'].shape[0])\n",
    "print('Class Iris-versicolor:\\t', cluster_2.loc[cluster_2['Species'] == 'Iris-versicolor'].shape[0])\n",
    "print('Class Iris-virginica:\\t', cluster_2.loc[cluster_2['Species'] == 'Iris-virginica'].shape[0])"
   ]
  },
  {
   "cell_type": "markdown",
   "metadata": {},
   "source": [
    "**Question #10:** After clustering, what class of plant is prominent in cluster 0?\n",
    "\n",
    "Answer: Class Iris-setosa"
   ]
  },
  {
   "cell_type": "markdown",
   "metadata": {},
   "source": [
    "**Question #11:** After clustering, what class of plant is prominent in cluster 1?\n",
    "\n",
    "Answer: Class Iris-virginica"
   ]
  },
  {
   "cell_type": "markdown",
   "metadata": {},
   "source": [
    "**Question #12:** After clustering, what class of plant is prominent in cluster 2?\n",
    "\n",
    "Answer: Class Iris-virginica"
   ]
  },
  {
   "cell_type": "code",
   "execution_count": null,
   "metadata": {},
   "outputs": [],
   "source": []
  }
 ],
 "metadata": {
  "kernelspec": {
   "display_name": "Python 3 (ipykernel)",
   "language": "python",
   "name": "python3"
  },
  "language_info": {
   "codemirror_mode": {
    "name": "ipython",
    "version": 3
   },
   "file_extension": ".py",
   "mimetype": "text/x-python",
   "name": "python",
   "nbconvert_exporter": "python",
   "pygments_lexer": "ipython3",
   "version": "3.12.3"
  }
 },
 "nbformat": 4,
 "nbformat_minor": 4
}
